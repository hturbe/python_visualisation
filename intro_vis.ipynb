{
  "cells": [
    {
   "cell_type": "markdown",
   "metadata": {
    "colab_type": "text",
    "id": "view-in-github"
   },
   "source": [
    "<a href=\"https://github.com/hturbe/python_visualisation/blob/main/intro_vis.ipynb\" target=\"_parent\"><img src=\"https://colab.research.google.com/assets/colab-badge.svg\" alt=\"Open In Colab\"/></a>"
   ]
  },
    {
      "cell_type": "markdown",
      "metadata": {},
      "source": [
        "# Introduction to Plotly\n",
        "The aim of this workshop is to intoduce two common libraries in Python:\n",
        "\n",
        "*   **[Matplotlib](https://matplotlib.org/stable/index.html)**: For simple visualisation\n",
        "*   **[Plotly](https://plotly.com/)**: For interactive visualisation\n"
      ]
    },
    {
      "cell_type": "markdown",
      "metadata": {
        "id": "VSGE9SPJmlns"
      },
      "source": [
        "## Data Formatting\n",
        "The first step is to import the data and format them so that they can be used to produce different visualisations"
      ]
    },
    {
      "cell_type": "code",
      "execution_count": null,
      "metadata": {
        "colab": {
          "base_uri": "https://localhost:8080/"
        },
        "id": "GtNQiBK3jlr5",
        "outputId": "811e6aad-b908-4aea-d833-91659748f65c"
      },
      "outputs": [],
      "source": [
        "# We need to import to import some external libraries that will  be used to transform the data\n",
        "import os\n",
        "import pandas as pd\n",
        "import numpy as np\n",
        "\n",
        "import matplotlib.pyplot as plt\n",
        "!python -m pip install plotly --upgrade"
      ]
    },
    {
      "cell_type": "markdown",
      "metadata": {
        "id": "kl4GMWMposa5"
      },
      "source": [
        "Today we will work with covid data from the confederation [website](https://www.covid19.admin.ch/en/overview)\n",
        "We first download the data and unzip them into a folder called covid_data.\n",
        "\n",
        "NB we can run command by preceeding them with ! as done below with the wget command and unzip."
      ]
    },
    {
      "cell_type": "code",
      "execution_count": null,
      "metadata": {
        "colab": {
          "base_uri": "https://localhost:8080/"
        },
        "id": "UPzznqTUm_cE",
        "outputId": "5fdc9837-44dc-40f8-8cba-141541271e4c"
      },
      "outputs": [],
      "source": [
        "!rm -r /content/*\n",
        "!wget https://www.covid19.admin.ch/api/data/20211025-yqqxa0ri/downloads/sources-csv.zip -O data_zipped.zip\n",
        "!unzip -qd /content/covid_data /content/data_zipped.zip"
      ]
    },
    {
      "cell_type": "code",
      "execution_count": null,
      "metadata": {
        "colab": {
          "base_uri": "https://localhost:8080/"
        },
        "id": "90wqj2etod-y",
        "outputId": "64f49bd9-ff01-48ac-91e1-739ada5526d9"
      },
      "outputs": [],
      "source": [
        "# we can now look at the data we have downloaded\n",
        "path_data = '/content/covid_data/data'\n",
        "os.listdir(path_data)"
      ]
    },
    {
      "cell_type": "code",
      "execution_count": null,
      "metadata": {
        "id": "8p-kOm9bp-IO"
      },
      "outputs": [],
      "source": [
        "#We can read the csv file with the pandas library we imported before\n",
        "df_hosp = pd.read_csv(os.path.join(path_data, 'COVID19Hosp_geoRegion_AKL10_w.csv'))\n",
        "# We convert the week number into dates so that they are easier to manipulate afterwards\n",
        "df_hosp.datum = pd.to_datetime(df_hosp.datum.astype(str)+'1',format=\"%Y%W%w\")\n"
      ]
    },
    {
      "cell_type": "markdown",
      "metadata": {
        "id": "7hk3CngBsFmP"
      },
      "source": [
        "Data is split in canton and [region](https://en.wikipedia.org/wiki/NUTS_statistical_regions_of_Switzerland) \n",
        "\n",
        "We first focus on the data for all Switzerland"
      ]
    },
    {
      "cell_type": "code",
      "execution_count": null,
      "metadata": {
        "colab": {
          "base_uri": "https://localhost:8080/"
        },
        "id": "vBtiqk1prtOh",
        "outputId": "7aff6791-ba2d-4ef7-8290-846a989ba67d"
      },
      "outputs": [],
      "source": [
        "# df_hospCH = df_hosp.loc[df_hosp.geoRegion == 'CH',:]\n",
        "print(df_hosp.columns)"
      ]
    },
    {
      "cell_type": "code",
      "execution_count": null,
      "metadata": {
        "id": "G-0LzmPC3UiV"
      },
      "outputs": [],
      "source": [
        "df_hospIndexed = df_hosp.set_index(['geoRegion','altersklasse_covid19', 'datum']).loc[:,['entries','inz_entries']]"
      ]
    },
    {
      "cell_type": "code",
      "execution_count": null,
      "metadata": {
        "colab": {
          "base_uri": "https://localhost:8080/",
          "height": 450
        },
        "id": "jC3QwMUY4m6V",
        "outputId": "3be84186-744d-41e3-b344-dd851611de31"
      },
      "outputs": [],
      "source": [
        "df_hospCH = df_hospIndexed.xs('CH')\n",
        "df_hospCH"
      ]
    },
    {
      "cell_type": "markdown",
      "metadata": {
        "id": "QCHVZa_K-QTP"
      },
      "source": [
        "## Simple visualisations: Matplotlib"
      ]
    },
    {
      "cell_type": "code",
      "execution_count": null,
      "metadata": {
        "colab": {
          "base_uri": "https://localhost:8080/",
          "height": 268
        },
        "id": "eXofcL8V63wg",
        "outputId": "da54c6dd-bc36-45dd-ee66-bedcc50eb1d6"
      },
      "outputs": [],
      "source": [
        "df_entries = df_hospCH.xs('80+').loc[:,'inz_entries']\n",
        "plt.plot(df_entries);"
      ]
    },
    {
      "cell_type": "markdown",
      "metadata": {
        "id": "8Wx2JdI4_H5u"
      },
      "source": [
        "### Customising Matplolib graphs"
      ]
    },
    {
      "cell_type": "code",
      "execution_count": null,
      "metadata": {
        "colab": {
          "base_uri": "https://localhost:8080/",
          "height": 555
        },
        "id": "3sTS6OGY79vB",
        "outputId": "34e80190-4db7-47fb-d3c2-3a7a3d92208b"
      },
      "outputs": [],
      "source": [
        "SMALL_SIZE = 12\n",
        "MEDIUM_SIZE = 14\n",
        "BIGGER_SIZE = 16\n",
        "\n",
        "plt.rc('font', size=SMALL_SIZE)          # controls default text sizes\n",
        "plt.rc('axes', titlesize=SMALL_SIZE)     # fontsize of the axes title\n",
        "plt.rc('axes', labelsize=MEDIUM_SIZE)    # fontsize of the x and y labels\n",
        "plt.rc('xtick', labelsize=SMALL_SIZE)    # fontsize of the tick labels\n",
        "plt.rc('ytick', labelsize=SMALL_SIZE)    # fontsize of the tick labels\n",
        "plt.rc('legend', fontsize=SMALL_SIZE)    # legend fontsize\n",
        "\n",
        "plt.figure(figsize=[12,8]);\n",
        "plt.plot(df_entries);\n",
        "plt.title('Hospitalisation for people aged 80+ in CH',fontsize = 18);\n",
        "plt.ylabel('Weekly Incidence');\n",
        "plt.xlabel('Date');\n",
        "plt.xticks(rotation=45);"
      ]
    },
    {
      "cell_type": "markdown",
      "metadata": {
        "id": "SJkFhvq4_NdY"
      },
      "source": [
        "##Interactive visualisations Plotly\n",
        "\n",
        "You can find some of the projects done with dash and plotly [here](https://dash.gallery/Portal/)"
      ]
    },
    {
      "cell_type": "code",
      "execution_count": null,
      "metadata": {
        "colab": {
          "base_uri": "https://localhost:8080/",
          "height": 542
        },
        "id": "kguOhElO-GuR",
        "outputId": "ee55ab73-279d-4091-b130-b45f95a054f3"
      },
      "outputs": [],
      "source": [
        "import plotly.graph_objects as go\n",
        "fig = go.Figure()\n",
        "fig.add_trace(go.Scatter(\n",
        "    x=df_entries.index, y=df_entries.values,\n",
        "    name='Incdence',\n",
        "    mode='lines+markers',\n",
        "))\n",
        "\n",
        "fig.update_layout(\n",
        "        template='plotly_white')"
      ]
    },
    {
      "cell_type": "code",
      "execution_count": null,
      "metadata": {
        "colab": {
          "base_uri": "https://localhost:8080/",
          "height": 542
        },
        "id": "Dzh4YvIuAu4K",
        "outputId": "614f15ce-4df1-40d3-a869-ba2047e9cb5f"
      },
      "outputs": [],
      "source": [
        "import plotly.express as px\n",
        "\n",
        "color_scheme = px.colors.qualitative.Vivid\n",
        "age_classes = df_hospCH.index.get_level_values(0).unique()\n",
        "# print('Age classses:',age_classes.tolist())\n",
        "fig = go.Figure()\n",
        "for idx,age_range in enumerate(age_classes):\n",
        "  if age_range == 'Unbekannt':\n",
        "    legend_name = 'Unknown'\n",
        "  else:\n",
        "    legend_name = age_range \n",
        "  df_tmp = df_hospCH.xs(age_range).loc[:,'inz_entries']\n",
        "  fig.add_trace(go.Scatter(\n",
        "    x=df_tmp.index, y=df_tmp.values,\n",
        "    name=legend_name,\n",
        "    mode='lines+markers',\n",
        "    marker_color = color_scheme[idx]\n",
        "  ))\n",
        "\n",
        "fig.update_layout(\n",
        "    title=\"Incidence of hospitalisation in CH\",\n",
        "    xaxis_title=\"Date\",\n",
        "    yaxis_title=\"Incidence\",\n",
        "    template='plotly_white')\n",
        "\n",
        "# fig.update_layout(legend_title_text='Age groups')\n",
        "    "
      ]
    },
    {
      "cell_type": "code",
      "execution_count": null,
      "metadata": {
        "colab": {
          "base_uri": "https://localhost:8080/",
          "height": 717
        },
        "id": "l5tjcsCMUkno",
        "outputId": "b2dbc362-a89c-4512-bf79-4b4842ddea93"
      },
      "outputs": [],
      "source": [
        "import plotly.express as px\n",
        "\n",
        "color_scheme = px.colors.qualitative.Vivid\n",
        "locations = df_hospIndexed.index.get_level_values(0).unique()\n",
        "fig = go.Figure()\n",
        "# We first add the trace for all locations and age classes setting visible to false\n",
        "for location in locations:\n",
        "  df_loc = df_hospIndexed.xs(location)\n",
        "  for idx,age_range in enumerate(age_classes):\n",
        "    if age_range == 'Unbekannt':\n",
        "      legend_name = 'Unknown'\n",
        "    else:\n",
        "      legend_name = age_range \n",
        "      \n",
        "    df_tmp = df_loc.xs(age_range).loc[:,'inz_entries']\n",
        "    fig.add_trace(go.Scatter(\n",
        "      x=df_tmp.index, y=df_tmp.values,\n",
        "      name=legend_name,\n",
        "      mode='lines+markers',\n",
        "      visible=False,\n",
        "      marker_color = color_scheme[idx]\n",
        "    ))\n",
        "\n",
        "steps = []\n",
        "trace_nb = int(len(fig.data)/len(locations))\n",
        "# We create the dict with info of which trace to show for each locations\n",
        "for i in range(len(locations)):\n",
        "\n",
        "\t\tarea_str = locations[i]\n",
        "\t\tstep = dict(\n",
        "\t\t\tlabel=area_str,\n",
        "\t\t\tmethod=\"update\",\n",
        "\t\t\targs=[{\"visible\": [False] * len(fig.data)},\n",
        "\t\t\t\t# {\"title\": area_str}\n",
        "        ],  # layout attribute\n",
        "\t\t)\n",
        "\t\tfor idx in range(trace_nb):\t# Toggle i'th trace to \"visible\"\n",
        "\t\t\tstep[\"args\"][0][\"visible\"][i*trace_nb+idx] = True  \n",
        "\t\tsteps.append(step)\n",
        "\n",
        "# We update the layout with the dictionary previously created for the button\n",
        "fig.update_layout(\n",
        "\t\ttemplate='plotly_white',\n",
        "    width=1500,\n",
        "    height=700,\n",
        "    xaxis_title=\"Date\",\n",
        "    yaxis_title=\"Incidence\",\n",
        "\t\tupdatemenus=[ \n",
        "\t\t\tdict(\n",
        "\t\t\t\tactive=0,\n",
        "\t\t\t\tbuttons=steps,\n",
        "\t\t\t\tdirection=\"down\",\n",
        "\t\t\t\tpad={\"r\": 10, \"t\": 10,\"b\":15},\n",
        "\t\t\t\tshowactive=True,\n",
        "\t\t\t\tx=0,\n",
        "\t\t\t\txanchor=\"left\",\n",
        "\t\t\t\tyanchor=\"bottom\")],\n",
        "\t)\n",
        "\n",
        "for idx in range(trace_nb):\n",
        "\t\tfig.data[idx].visible = True\n",
        "\n",
        "fig.show()"
      ]
    },
    {
      "cell_type": "markdown",
      "metadata": {
        "id": "4lXQA4ywbM_e"
      },
      "source": [
        "## Your turn\n",
        "You can pick one of the csv included in the dataset we downloaded and create your own graph. e.g. show vaccinated population per canton"
      ]
    }
  ],
  "metadata": {
    "colab": {
      "collapsed_sections": [],
      "name": "Overview of Colaboratory Features",
      "provenance": []
    },
    "kernelspec": {
      "display_name": "Python 3",
      "name": "python3"
    }
  },
  "nbformat": 4,
  "nbformat_minor": 0
}
